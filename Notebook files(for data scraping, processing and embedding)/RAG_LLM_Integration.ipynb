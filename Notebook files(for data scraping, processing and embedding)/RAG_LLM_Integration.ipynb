{
 "cells": [
  {
   "cell_type": "markdown",
   "metadata": {},
   "source": [
    "# Multilingual RAG + LLM Integration with Gemini API"
   ]
  },
  {
   "cell_type": "markdown",
   "metadata": {},
   "source": [
    "## 1. Setup and Installation"
   ]
  },
  {
   "cell_type": "code",
   "execution_count": 31,
   "metadata": {},
   "outputs": [
    {
     "name": "stderr",
     "output_type": "stream",
     "text": [
      "huggingface/tokenizers: The current process just got forked, after parallelism has already been used. Disabling parallelism to avoid deadlocks...\n",
      "To disable this warning, you can either:\n",
      "\t- Avoid using `tokenizers` before the fork if possible\n",
      "\t- Explicitly set the environment variable TOKENIZERS_PARALLELISM=(true | false)\n"
     ]
    },
    {
     "name": "stdout",
     "output_type": "stream",
     "text": [
      "Requirement already satisfied: google-generativeai in /home/duyle/.pyenv/versions/3.10.16/lib/python3.10/site-packages (0.8.5)\n",
      "Requirement already satisfied: langchain in /home/duyle/.pyenv/versions/3.10.16/lib/python3.10/site-packages (0.3.26)\n",
      "Requirement already satisfied: langchain-google-genai in /home/duyle/.pyenv/versions/3.10.16/lib/python3.10/site-packages (2.0.10)\n",
      "Requirement already satisfied: chromadb in /home/duyle/.pyenv/versions/3.10.16/lib/python3.10/site-packages (1.0.15)\n",
      "Requirement already satisfied: sentence-transformers in /home/duyle/.pyenv/versions/3.10.16/lib/python3.10/site-packages (4.1.0)\n",
      "Requirement already satisfied: python-dotenv in /home/duyle/.pyenv/versions/3.10.16/lib/python3.10/site-packages (1.0.0)\n",
      "Collecting langdetect\n",
      "  Downloading langdetect-1.0.9.tar.gz (981 kB)\n",
      "\u001b[2K     \u001b[90m━━━━━━━━━━━━━━━━━━━━━━━━━━━━━━━━━━━━━━━\u001b[0m \u001b[32m981.5/981.5 kB\u001b[0m \u001b[31m4.9 MB/s\u001b[0m eta \u001b[36m0:00:00\u001b[0m\n",
      "\u001b[?25h  Installing build dependencies ... \u001b[?25ldone\n",
      "\u001b[?25h  Getting requirements to build wheel ... \u001b[?25ldone\n",
      "\u001b[?25h  Preparing metadata (pyproject.toml) ... \u001b[?25ldone\n",
      "\u001b[?25hRequirement already satisfied: google-ai-generativelanguage==0.6.15 in /home/duyle/.pyenv/versions/3.10.16/lib/python3.10/site-packages (from google-generativeai) (0.6.15)\n",
      "Requirement already satisfied: google-api-core in /home/duyle/.pyenv/versions/3.10.16/lib/python3.10/site-packages (from google-generativeai) (2.25.1)\n",
      "Requirement already satisfied: google-api-python-client in /home/duyle/.pyenv/versions/3.10.16/lib/python3.10/site-packages (from google-generativeai) (2.175.0)\n",
      "Requirement already satisfied: google-auth>=2.15.0 in /home/duyle/.pyenv/versions/3.10.16/lib/python3.10/site-packages (from google-generativeai) (2.40.3)\n",
      "Requirement already satisfied: protobuf in /home/duyle/.pyenv/versions/3.10.16/lib/python3.10/site-packages (from google-generativeai) (5.29.5)\n",
      "Requirement already satisfied: pydantic in /home/duyle/.pyenv/versions/3.10.16/lib/python3.10/site-packages (from google-generativeai) (2.8.2)\n",
      "Requirement already satisfied: tqdm in /home/duyle/.pyenv/versions/3.10.16/lib/python3.10/site-packages (from google-generativeai) (4.67.1)\n",
      "Requirement already satisfied: typing-extensions in /home/duyle/.pyenv/versions/3.10.16/lib/python3.10/site-packages (from google-generativeai) (4.12.2)\n",
      "Requirement already satisfied: proto-plus<2.0.0dev,>=1.22.3 in /home/duyle/.pyenv/versions/3.10.16/lib/python3.10/site-packages (from google-ai-generativelanguage==0.6.15->google-generativeai) (1.26.1)\n",
      "Requirement already satisfied: googleapis-common-protos<2.0.0,>=1.56.2 in /home/duyle/.pyenv/versions/3.10.16/lib/python3.10/site-packages (from google-api-core->google-generativeai) (1.70.0)\n",
      "Requirement already satisfied: requests<3.0.0,>=2.18.0 in /home/duyle/.pyenv/versions/3.10.16/lib/python3.10/site-packages (from google-api-core->google-generativeai) (2.32.3)\n",
      "Requirement already satisfied: grpcio<2.0.0,>=1.33.2 in /home/duyle/.pyenv/versions/3.10.16/lib/python3.10/site-packages (from google-api-core[grpc]!=2.0.*,!=2.1.*,!=2.10.*,!=2.2.*,!=2.3.*,!=2.4.*,!=2.5.*,!=2.6.*,!=2.7.*,!=2.8.*,!=2.9.*,<3.0.0dev,>=1.34.1->google-ai-generativelanguage==0.6.15->google-generativeai) (1.73.1)\n",
      "Requirement already satisfied: grpcio-status<2.0.0,>=1.33.2 in /home/duyle/.pyenv/versions/3.10.16/lib/python3.10/site-packages (from google-api-core[grpc]!=2.0.*,!=2.1.*,!=2.10.*,!=2.2.*,!=2.3.*,!=2.4.*,!=2.5.*,!=2.6.*,!=2.7.*,!=2.8.*,!=2.9.*,<3.0.0dev,>=1.34.1->google-ai-generativelanguage==0.6.15->google-generativeai) (1.71.2)\n",
      "Requirement already satisfied: cachetools<6.0,>=2.0.0 in /home/duyle/.pyenv/versions/3.10.16/lib/python3.10/site-packages (from google-auth>=2.15.0->google-generativeai) (5.5.0)\n",
      "Requirement already satisfied: pyasn1-modules>=0.2.1 in /home/duyle/.pyenv/versions/3.10.16/lib/python3.10/site-packages (from google-auth>=2.15.0->google-generativeai) (0.4.2)\n",
      "Requirement already satisfied: rsa<5,>=3.1.4 in /home/duyle/.pyenv/versions/3.10.16/lib/python3.10/site-packages (from google-auth>=2.15.0->google-generativeai) (4.9.1)\n",
      "Requirement already satisfied: charset-normalizer<4,>=2 in /home/duyle/.pyenv/versions/3.10.16/lib/python3.10/site-packages (from requests<3.0.0,>=2.18.0->google-api-core->google-generativeai) (3.4.1)\n",
      "Requirement already satisfied: idna<4,>=2.5 in /home/duyle/.pyenv/versions/3.10.16/lib/python3.10/site-packages (from requests<3.0.0,>=2.18.0->google-api-core->google-generativeai) (3.10)\n",
      "Requirement already satisfied: urllib3<3,>=1.21.1 in /home/duyle/.pyenv/versions/3.10.16/lib/python3.10/site-packages (from requests<3.0.0,>=2.18.0->google-api-core->google-generativeai) (1.26.15)\n",
      "Requirement already satisfied: certifi>=2017.4.17 in /home/duyle/.pyenv/versions/3.10.16/lib/python3.10/site-packages (from requests<3.0.0,>=2.18.0->google-api-core->google-generativeai) (2025.1.31)\n",
      "Requirement already satisfied: pyasn1>=0.1.3 in /home/duyle/.pyenv/versions/3.10.16/lib/python3.10/site-packages (from rsa<5,>=3.1.4->google-auth>=2.15.0->google-generativeai) (0.6.1)\n",
      "Requirement already satisfied: langchain-core<1.0.0,>=0.3.66 in /home/duyle/.pyenv/versions/3.10.16/lib/python3.10/site-packages (from langchain) (0.3.68)\n",
      "Requirement already satisfied: langchain-text-splitters<1.0.0,>=0.3.8 in /home/duyle/.pyenv/versions/3.10.16/lib/python3.10/site-packages (from langchain) (0.3.8)\n",
      "Requirement already satisfied: langsmith>=0.1.17 in /home/duyle/.pyenv/versions/3.10.16/lib/python3.10/site-packages (from langchain) (0.4.4)\n",
      "Requirement already satisfied: SQLAlchemy<3,>=1.4 in /home/duyle/.pyenv/versions/3.10.16/lib/python3.10/site-packages (from langchain) (2.0.41)\n",
      "Requirement already satisfied: PyYAML>=5.3 in /home/duyle/.pyenv/versions/3.10.16/lib/python3.10/site-packages (from langchain) (6.0.2)\n",
      "Requirement already satisfied: async-timeout<5.0.0,>=4.0.0 in /home/duyle/.pyenv/versions/3.10.16/lib/python3.10/site-packages (from langchain) (4.0.3)\n",
      "Requirement already satisfied: tenacity!=8.4.0,<10.0.0,>=8.1.0 in /home/duyle/.pyenv/versions/3.10.16/lib/python3.10/site-packages (from langchain-core<1.0.0,>=0.3.66->langchain) (9.1.2)\n",
      "Requirement already satisfied: jsonpatch<2.0,>=1.33 in /home/duyle/.pyenv/versions/3.10.16/lib/python3.10/site-packages (from langchain-core<1.0.0,>=0.3.66->langchain) (1.33)\n",
      "Requirement already satisfied: packaging<25,>=23.2 in /home/duyle/.pyenv/versions/3.10.16/lib/python3.10/site-packages (from langchain-core<1.0.0,>=0.3.66->langchain) (24.2)\n",
      "Requirement already satisfied: jsonpointer>=1.9 in /home/duyle/.pyenv/versions/3.10.16/lib/python3.10/site-packages (from jsonpatch<2.0,>=1.33->langchain-core<1.0.0,>=0.3.66->langchain) (3.0.0)\n",
      "Requirement already satisfied: annotated-types>=0.4.0 in /home/duyle/.pyenv/versions/3.10.16/lib/python3.10/site-packages (from pydantic->google-generativeai) (0.7.0)\n",
      "Requirement already satisfied: pydantic-core==2.20.1 in /home/duyle/.pyenv/versions/3.10.16/lib/python3.10/site-packages (from pydantic->google-generativeai) (2.20.1)\n",
      "Requirement already satisfied: greenlet>=1 in /home/duyle/.pyenv/versions/3.10.16/lib/python3.10/site-packages (from SQLAlchemy<3,>=1.4->langchain) (3.1.1)\n",
      "Requirement already satisfied: filetype<2.0.0,>=1.2.0 in /home/duyle/.pyenv/versions/3.10.16/lib/python3.10/site-packages (from langchain-google-genai) (1.2.0)\n",
      "Requirement already satisfied: build>=1.0.3 in /home/duyle/.pyenv/versions/3.10.16/lib/python3.10/site-packages (from chromadb) (1.2.2.post1)\n",
      "Requirement already satisfied: pybase64>=1.4.1 in /home/duyle/.pyenv/versions/3.10.16/lib/python3.10/site-packages (from chromadb) (1.4.1)\n",
      "Requirement already satisfied: uvicorn>=0.18.3 in /home/duyle/.pyenv/versions/3.10.16/lib/python3.10/site-packages (from uvicorn[standard]>=0.18.3->chromadb) (0.34.0)\n",
      "Requirement already satisfied: numpy>=1.22.5 in /home/duyle/.pyenv/versions/3.10.16/lib/python3.10/site-packages (from chromadb) (2.1.3)\n",
      "Requirement already satisfied: posthog<6.0.0,>=2.4.0 in /home/duyle/.pyenv/versions/3.10.16/lib/python3.10/site-packages (from chromadb) (5.4.0)\n",
      "Requirement already satisfied: onnxruntime>=1.14.1 in /home/duyle/.pyenv/versions/3.10.16/lib/python3.10/site-packages (from chromadb) (1.22.0)\n",
      "Requirement already satisfied: opentelemetry-api>=1.2.0 in /home/duyle/.pyenv/versions/3.10.16/lib/python3.10/site-packages (from chromadb) (1.34.1)\n",
      "Requirement already satisfied: opentelemetry-exporter-otlp-proto-grpc>=1.2.0 in /home/duyle/.pyenv/versions/3.10.16/lib/python3.10/site-packages (from chromadb) (1.34.1)\n",
      "Requirement already satisfied: opentelemetry-sdk>=1.2.0 in /home/duyle/.pyenv/versions/3.10.16/lib/python3.10/site-packages (from chromadb) (1.34.1)\n",
      "Requirement already satisfied: tokenizers>=0.13.2 in /home/duyle/.pyenv/versions/3.10.16/lib/python3.10/site-packages (from chromadb) (0.21.1)\n",
      "Requirement already satisfied: pypika>=0.48.9 in /home/duyle/.pyenv/versions/3.10.16/lib/python3.10/site-packages (from chromadb) (0.48.9)\n",
      "Requirement already satisfied: overrides>=7.3.1 in /home/duyle/.pyenv/versions/3.10.16/lib/python3.10/site-packages (from chromadb) (7.7.0)\n",
      "Requirement already satisfied: importlib-resources in /home/duyle/.pyenv/versions/3.10.16/lib/python3.10/site-packages (from chromadb) (6.5.2)\n",
      "Requirement already satisfied: bcrypt>=4.0.1 in /home/duyle/.pyenv/versions/3.10.16/lib/python3.10/site-packages (from chromadb) (4.3.0)\n",
      "Requirement already satisfied: typer>=0.9.0 in /home/duyle/.pyenv/versions/3.10.16/lib/python3.10/site-packages (from chromadb) (0.16.0)\n",
      "Requirement already satisfied: kubernetes>=28.1.0 in /home/duyle/.pyenv/versions/3.10.16/lib/python3.10/site-packages (from chromadb) (33.1.0)\n",
      "Requirement already satisfied: mmh3>=4.0.1 in /home/duyle/.pyenv/versions/3.10.16/lib/python3.10/site-packages (from chromadb) (5.1.0)\n",
      "Requirement already satisfied: orjson>=3.9.12 in /home/duyle/.pyenv/versions/3.10.16/lib/python3.10/site-packages (from chromadb) (3.10.18)\n",
      "Requirement already satisfied: httpx>=0.27.0 in /home/duyle/.pyenv/versions/3.10.16/lib/python3.10/site-packages (from chromadb) (0.27.2)\n",
      "Requirement already satisfied: rich>=10.11.0 in /home/duyle/.pyenv/versions/3.10.16/lib/python3.10/site-packages (from chromadb) (13.9.4)\n",
      "Requirement already satisfied: jsonschema>=4.19.0 in /home/duyle/.pyenv/versions/3.10.16/lib/python3.10/site-packages (from chromadb) (4.20.0)\n",
      "Requirement already satisfied: six>=1.5 in /home/duyle/.pyenv/versions/3.10.16/lib/python3.10/site-packages (from posthog<6.0.0,>=2.4.0->chromadb) (1.17.0)\n",
      "Requirement already satisfied: python-dateutil>=2.2 in /home/duyle/.pyenv/versions/3.10.16/lib/python3.10/site-packages (from posthog<6.0.0,>=2.4.0->chromadb) (2.9.0.post0)\n",
      "Requirement already satisfied: backoff>=1.10.0 in /home/duyle/.pyenv/versions/3.10.16/lib/python3.10/site-packages (from posthog<6.0.0,>=2.4.0->chromadb) (2.2.1)\n",
      "Requirement already satisfied: distro>=1.5.0 in /home/duyle/.pyenv/versions/3.10.16/lib/python3.10/site-packages (from posthog<6.0.0,>=2.4.0->chromadb) (1.9.0)\n",
      "Requirement already satisfied: transformers<5.0.0,>=4.41.0 in /home/duyle/.pyenv/versions/3.10.16/lib/python3.10/site-packages (from sentence-transformers) (4.52.4)\n",
      "Requirement already satisfied: torch>=1.11.0 in /home/duyle/.pyenv/versions/3.10.16/lib/python3.10/site-packages (from sentence-transformers) (2.7.1)\n",
      "Requirement already satisfied: scikit-learn in /home/duyle/.pyenv/versions/3.10.16/lib/python3.10/site-packages (from sentence-transformers) (1.6.1)\n",
      "Requirement already satisfied: scipy in /home/duyle/.pyenv/versions/3.10.16/lib/python3.10/site-packages (from sentence-transformers) (1.15.2)\n",
      "Requirement already satisfied: huggingface-hub>=0.20.0 in /home/duyle/.pyenv/versions/3.10.16/lib/python3.10/site-packages (from sentence-transformers) (0.33.0)\n",
      "Requirement already satisfied: Pillow in /home/duyle/.pyenv/versions/3.10.16/lib/python3.10/site-packages (from sentence-transformers) (10.2.0)\n",
      "Requirement already satisfied: filelock in /home/duyle/.pyenv/versions/3.10.16/lib/python3.10/site-packages (from transformers<5.0.0,>=4.41.0->sentence-transformers) (3.18.0)\n",
      "Requirement already satisfied: regex!=2019.12.17 in /home/duyle/.pyenv/versions/3.10.16/lib/python3.10/site-packages (from transformers<5.0.0,>=4.41.0->sentence-transformers) (2024.11.6)\n",
      "Requirement already satisfied: safetensors>=0.4.3 in /home/duyle/.pyenv/versions/3.10.16/lib/python3.10/site-packages (from transformers<5.0.0,>=4.41.0->sentence-transformers) (0.5.3)\n",
      "Requirement already satisfied: fsspec>=2023.5.0 in /home/duyle/.pyenv/versions/3.10.16/lib/python3.10/site-packages (from huggingface-hub>=0.20.0->sentence-transformers) (2025.5.1)\n",
      "Requirement already satisfied: hf-xet<2.0.0,>=1.1.2 in /home/duyle/.pyenv/versions/3.10.16/lib/python3.10/site-packages (from huggingface-hub>=0.20.0->sentence-transformers) (1.1.4)\n",
      "Requirement already satisfied: pyproject_hooks in /home/duyle/.pyenv/versions/3.10.16/lib/python3.10/site-packages (from build>=1.0.3->chromadb) (1.2.0)\n",
      "Requirement already satisfied: tomli>=1.1.0 in /home/duyle/.pyenv/versions/3.10.16/lib/python3.10/site-packages (from build>=1.0.3->chromadb) (2.2.1)\n",
      "Requirement already satisfied: anyio in /home/duyle/.pyenv/versions/3.10.16/lib/python3.10/site-packages (from httpx>=0.27.0->chromadb) (4.2.0)\n",
      "Requirement already satisfied: httpcore==1.* in /home/duyle/.pyenv/versions/3.10.16/lib/python3.10/site-packages (from httpx>=0.27.0->chromadb) (1.0.7)\n",
      "Requirement already satisfied: sniffio in /home/duyle/.pyenv/versions/3.10.16/lib/python3.10/site-packages (from httpx>=0.27.0->chromadb) (1.3.1)\n",
      "Requirement already satisfied: h11<0.15,>=0.13 in /home/duyle/.pyenv/versions/3.10.16/lib/python3.10/site-packages (from httpcore==1.*->httpx>=0.27.0->chromadb) (0.14.0)\n",
      "Requirement already satisfied: attrs>=22.2.0 in /home/duyle/.pyenv/versions/3.10.16/lib/python3.10/site-packages (from jsonschema>=4.19.0->chromadb) (25.1.0)\n",
      "Requirement already satisfied: jsonschema-specifications>=2023.03.6 in /home/duyle/.pyenv/versions/3.10.16/lib/python3.10/site-packages (from jsonschema>=4.19.0->chromadb) (2024.10.1)\n",
      "Requirement already satisfied: referencing>=0.28.4 in /home/duyle/.pyenv/versions/3.10.16/lib/python3.10/site-packages (from jsonschema>=4.19.0->chromadb) (0.36.2)\n",
      "Requirement already satisfied: rpds-py>=0.7.1 in /home/duyle/.pyenv/versions/3.10.16/lib/python3.10/site-packages (from jsonschema>=4.19.0->chromadb) (0.23.1)\n",
      "Requirement already satisfied: websocket-client!=0.40.0,!=0.41.*,!=0.42.*,>=0.32.0 in /home/duyle/.pyenv/versions/3.10.16/lib/python3.10/site-packages (from kubernetes>=28.1.0->chromadb) (1.8.0)\n",
      "Requirement already satisfied: requests-oauthlib in /home/duyle/.pyenv/versions/3.10.16/lib/python3.10/site-packages (from kubernetes>=28.1.0->chromadb) (2.0.0)\n",
      "Requirement already satisfied: oauthlib>=3.2.2 in /home/duyle/.pyenv/versions/3.10.16/lib/python3.10/site-packages (from kubernetes>=28.1.0->chromadb) (3.3.1)\n",
      "Requirement already satisfied: durationpy>=0.7 in /home/duyle/.pyenv/versions/3.10.16/lib/python3.10/site-packages (from kubernetes>=28.1.0->chromadb) (0.10)\n",
      "Requirement already satisfied: requests-toolbelt<2.0.0,>=1.0.0 in /home/duyle/.pyenv/versions/3.10.16/lib/python3.10/site-packages (from langsmith>=0.1.17->langchain) (1.0.0)\n",
      "Requirement already satisfied: zstandard<0.24.0,>=0.23.0 in /home/duyle/.pyenv/versions/3.10.16/lib/python3.10/site-packages (from langsmith>=0.1.17->langchain) (0.23.0)\n",
      "Requirement already satisfied: coloredlogs in /home/duyle/.pyenv/versions/3.10.16/lib/python3.10/site-packages (from onnxruntime>=1.14.1->chromadb) (15.0.1)\n",
      "Requirement already satisfied: flatbuffers in /home/duyle/.pyenv/versions/3.10.16/lib/python3.10/site-packages (from onnxruntime>=1.14.1->chromadb) (25.2.10)\n",
      "Requirement already satisfied: sympy in /home/duyle/.pyenv/versions/3.10.16/lib/python3.10/site-packages (from onnxruntime>=1.14.1->chromadb) (1.14.0)\n",
      "Requirement already satisfied: importlib-metadata<8.8.0,>=6.0 in /home/duyle/.pyenv/versions/3.10.16/lib/python3.10/site-packages (from opentelemetry-api>=1.2.0->chromadb) (8.6.1)\n",
      "Requirement already satisfied: zipp>=3.20 in /home/duyle/.pyenv/versions/3.10.16/lib/python3.10/site-packages (from importlib-metadata<8.8.0,>=6.0->opentelemetry-api>=1.2.0->chromadb) (3.21.0)\n",
      "Requirement already satisfied: opentelemetry-exporter-otlp-proto-common==1.34.1 in /home/duyle/.pyenv/versions/3.10.16/lib/python3.10/site-packages (from opentelemetry-exporter-otlp-proto-grpc>=1.2.0->chromadb) (1.34.1)\n",
      "Requirement already satisfied: opentelemetry-proto==1.34.1 in /home/duyle/.pyenv/versions/3.10.16/lib/python3.10/site-packages (from opentelemetry-exporter-otlp-proto-grpc>=1.2.0->chromadb) (1.34.1)\n",
      "Requirement already satisfied: opentelemetry-semantic-conventions==0.55b1 in /home/duyle/.pyenv/versions/3.10.16/lib/python3.10/site-packages (from opentelemetry-sdk>=1.2.0->chromadb) (0.55b1)\n",
      "Requirement already satisfied: markdown-it-py>=2.2.0 in /home/duyle/.pyenv/versions/3.10.16/lib/python3.10/site-packages (from rich>=10.11.0->chromadb) (3.0.0)\n",
      "Requirement already satisfied: pygments<3.0.0,>=2.13.0 in /home/duyle/.pyenv/versions/3.10.16/lib/python3.10/site-packages (from rich>=10.11.0->chromadb) (2.19.1)\n",
      "Requirement already satisfied: mdurl~=0.1 in /home/duyle/.pyenv/versions/3.10.16/lib/python3.10/site-packages (from markdown-it-py>=2.2.0->rich>=10.11.0->chromadb) (0.1.2)\n",
      "Requirement already satisfied: networkx in /home/duyle/.pyenv/versions/3.10.16/lib/python3.10/site-packages (from torch>=1.11.0->sentence-transformers) (3.4.2)\n",
      "Requirement already satisfied: jinja2 in /home/duyle/.pyenv/versions/3.10.16/lib/python3.10/site-packages (from torch>=1.11.0->sentence-transformers) (3.1.5)\n",
      "Requirement already satisfied: nvidia-cuda-nvrtc-cu12==12.6.77 in /home/duyle/.pyenv/versions/3.10.16/lib/python3.10/site-packages (from torch>=1.11.0->sentence-transformers) (12.6.77)\n",
      "Requirement already satisfied: nvidia-cuda-runtime-cu12==12.6.77 in /home/duyle/.pyenv/versions/3.10.16/lib/python3.10/site-packages (from torch>=1.11.0->sentence-transformers) (12.6.77)\n",
      "Requirement already satisfied: nvidia-cuda-cupti-cu12==12.6.80 in /home/duyle/.pyenv/versions/3.10.16/lib/python3.10/site-packages (from torch>=1.11.0->sentence-transformers) (12.6.80)\n",
      "Requirement already satisfied: nvidia-cudnn-cu12==9.5.1.17 in /home/duyle/.pyenv/versions/3.10.16/lib/python3.10/site-packages (from torch>=1.11.0->sentence-transformers) (9.5.1.17)\n",
      "Requirement already satisfied: nvidia-cublas-cu12==12.6.4.1 in /home/duyle/.pyenv/versions/3.10.16/lib/python3.10/site-packages (from torch>=1.11.0->sentence-transformers) (12.6.4.1)\n",
      "Requirement already satisfied: nvidia-cufft-cu12==11.3.0.4 in /home/duyle/.pyenv/versions/3.10.16/lib/python3.10/site-packages (from torch>=1.11.0->sentence-transformers) (11.3.0.4)\n",
      "Requirement already satisfied: nvidia-curand-cu12==10.3.7.77 in /home/duyle/.pyenv/versions/3.10.16/lib/python3.10/site-packages (from torch>=1.11.0->sentence-transformers) (10.3.7.77)\n",
      "Requirement already satisfied: nvidia-cusolver-cu12==11.7.1.2 in /home/duyle/.pyenv/versions/3.10.16/lib/python3.10/site-packages (from torch>=1.11.0->sentence-transformers) (11.7.1.2)\n",
      "Requirement already satisfied: nvidia-cusparse-cu12==12.5.4.2 in /home/duyle/.pyenv/versions/3.10.16/lib/python3.10/site-packages (from torch>=1.11.0->sentence-transformers) (12.5.4.2)\n",
      "Requirement already satisfied: nvidia-cusparselt-cu12==0.6.3 in /home/duyle/.pyenv/versions/3.10.16/lib/python3.10/site-packages (from torch>=1.11.0->sentence-transformers) (0.6.3)\n",
      "Requirement already satisfied: nvidia-nccl-cu12==2.26.2 in /home/duyle/.pyenv/versions/3.10.16/lib/python3.10/site-packages (from torch>=1.11.0->sentence-transformers) (2.26.2)\n",
      "Requirement already satisfied: nvidia-nvtx-cu12==12.6.77 in /home/duyle/.pyenv/versions/3.10.16/lib/python3.10/site-packages (from torch>=1.11.0->sentence-transformers) (12.6.77)\n",
      "Requirement already satisfied: nvidia-nvjitlink-cu12==12.6.85 in /home/duyle/.pyenv/versions/3.10.16/lib/python3.10/site-packages (from torch>=1.11.0->sentence-transformers) (12.6.85)\n",
      "Requirement already satisfied: nvidia-cufile-cu12==1.11.1.6 in /home/duyle/.pyenv/versions/3.10.16/lib/python3.10/site-packages (from torch>=1.11.0->sentence-transformers) (1.11.1.6)\n",
      "Requirement already satisfied: triton==3.3.1 in /home/duyle/.pyenv/versions/3.10.16/lib/python3.10/site-packages (from torch>=1.11.0->sentence-transformers) (3.3.1)\n",
      "Requirement already satisfied: setuptools>=40.8.0 in /home/duyle/.pyenv/versions/3.10.16/lib/python3.10/site-packages (from triton==3.3.1->torch>=1.11.0->sentence-transformers) (65.5.0)\n",
      "Requirement already satisfied: mpmath<1.4,>=1.1.0 in /home/duyle/.pyenv/versions/3.10.16/lib/python3.10/site-packages (from sympy->onnxruntime>=1.14.1->chromadb) (1.3.0)\n",
      "Requirement already satisfied: click>=8.0.0 in /home/duyle/.pyenv/versions/3.10.16/lib/python3.10/site-packages (from typer>=0.9.0->chromadb) (8.1.8)\n",
      "Requirement already satisfied: shellingham>=1.3.0 in /home/duyle/.pyenv/versions/3.10.16/lib/python3.10/site-packages (from typer>=0.9.0->chromadb) (1.5.4)\n",
      "Requirement already satisfied: httptools>=0.6.3 in /home/duyle/.pyenv/versions/3.10.16/lib/python3.10/site-packages (from uvicorn[standard]>=0.18.3->chromadb) (0.6.4)\n",
      "Requirement already satisfied: uvloop!=0.15.0,!=0.15.1,>=0.14.0 in /home/duyle/.pyenv/versions/3.10.16/lib/python3.10/site-packages (from uvicorn[standard]>=0.18.3->chromadb) (0.21.0)\n",
      "Requirement already satisfied: watchfiles>=0.13 in /home/duyle/.pyenv/versions/3.10.16/lib/python3.10/site-packages (from uvicorn[standard]>=0.18.3->chromadb) (0.24.0)\n",
      "Requirement already satisfied: websockets>=10.4 in /home/duyle/.pyenv/versions/3.10.16/lib/python3.10/site-packages (from uvicorn[standard]>=0.18.3->chromadb) (13.1)\n",
      "Requirement already satisfied: exceptiongroup>=1.0.2 in /home/duyle/.pyenv/versions/3.10.16/lib/python3.10/site-packages (from anyio->httpx>=0.27.0->chromadb) (1.2.2)\n",
      "Requirement already satisfied: humanfriendly>=9.1 in /home/duyle/.pyenv/versions/3.10.16/lib/python3.10/site-packages (from coloredlogs->onnxruntime>=1.14.1->chromadb) (10.0)\n",
      "Requirement already satisfied: httplib2<1.0.0,>=0.19.0 in /home/duyle/.pyenv/versions/3.10.16/lib/python3.10/site-packages (from google-api-python-client->google-generativeai) (0.22.0)\n",
      "Requirement already satisfied: google-auth-httplib2<1.0.0,>=0.2.0 in /home/duyle/.pyenv/versions/3.10.16/lib/python3.10/site-packages (from google-api-python-client->google-generativeai) (0.2.0)\n",
      "Requirement already satisfied: uritemplate<5,>=3.0.1 in /home/duyle/.pyenv/versions/3.10.16/lib/python3.10/site-packages (from google-api-python-client->google-generativeai) (4.2.0)\n",
      "Requirement already satisfied: pyparsing!=3.0.0,!=3.0.1,!=3.0.2,!=3.0.3,<4,>=2.4.2 in /home/duyle/.pyenv/versions/3.10.16/lib/python3.10/site-packages (from httplib2<1.0.0,>=0.19.0->google-api-python-client->google-generativeai) (3.2.1)\n",
      "Requirement already satisfied: MarkupSafe>=2.0 in /home/duyle/.pyenv/versions/3.10.16/lib/python3.10/site-packages (from jinja2->torch>=1.11.0->sentence-transformers) (2.1.5)\n",
      "Requirement already satisfied: joblib>=1.2.0 in /home/duyle/.pyenv/versions/3.10.16/lib/python3.10/site-packages (from scikit-learn->sentence-transformers) (1.4.2)\n",
      "Requirement already satisfied: threadpoolctl>=3.1.0 in /home/duyle/.pyenv/versions/3.10.16/lib/python3.10/site-packages (from scikit-learn->sentence-transformers) (3.5.0)\n",
      "Building wheels for collected packages: langdetect\n",
      "  Building wheel for langdetect (pyproject.toml) ... \u001b[?25ldone\n",
      "\u001b[?25h  Created wheel for langdetect: filename=langdetect-1.0.9-py3-none-any.whl size=993332 sha256=a18dc31cd16914e5797dfbb45e6d9585cd5967f3664efbc7e84ecd64f20a6718\n",
      "  Stored in directory: /home/duyle/.cache/pip/wheels/95/03/7d/59ea870c70ce4e5a370638b5462a7711ab78fba2f655d05106\n",
      "Successfully built langdetect\n",
      "Installing collected packages: langdetect\n",
      "Successfully installed langdetect-1.0.9\n"
     ]
    }
   ],
   "source": [
    "# Install required packages\n",
    "!pip install google-generativeai langchain langchain-google-genai chromadb sentence-transformers python-dotenv langdetect"
   ]
  },
  {
   "cell_type": "code",
   "execution_count": 32,
   "metadata": {},
   "outputs": [
    {
     "data": {
      "text/plain": [
       "True"
      ]
     },
     "execution_count": 32,
     "metadata": {},
     "output_type": "execute_result"
    }
   ],
   "source": [
    "import os\n",
    "import json\n",
    "import pickle\n",
    "from typing import List, Dict, Any\n",
    "from pathlib import Path\n",
    "import langdetect\n",
    "# RAG components\n",
    "import chromadb\n",
    "from sentence_transformers import SentenceTransformer\n",
    "\n",
    "# Langchain components\n",
    "from langchain.schema import Document\n",
    "from langchain.prompts import PromptTemplate\n",
    "from langchain.chains import RetrievalQA\n",
    "from langchain.vectorstores import Chroma\n",
    "from langchain.embeddings import SentenceTransformerEmbeddings\n",
    "from langchain_google_genai import ChatGoogleGenerativeAI\n",
    "\n",
    "# Environment variables\n",
    "from dotenv import load_dotenv\n",
    "load_dotenv('/home/duyle/Documents/Case-Study/.env')"
   ]
  },
  {
   "cell_type": "markdown",
   "metadata": {},
   "source": [
    "## 2. API Key Setup"
   ]
  },
  {
   "cell_type": "code",
   "execution_count": 19,
   "metadata": {},
   "outputs": [
    {
     "data": {
      "text/plain": [
       "True"
      ]
     },
     "execution_count": 19,
     "metadata": {},
     "output_type": "execute_result"
    }
   ],
   "source": [
    "load_dotenv('/home/duyle/Documents/Case-Study/.env')"
   ]
  },
  {
   "cell_type": "code",
   "execution_count": 20,
   "metadata": {},
   "outputs": [],
   "source": [
    "# Set up your Gemini API key\n",
    "# Option 1: Set in environment variable\n",
    "# os.environ[\"GOOGLE_API_KEY\"] = \"your-api-key-here\"\n",
    "\n",
    "# Option 2: Load from .env file (recommended)\n",
    "# Create a .env file with: GOOGLE_API_KEY=your-api-key-here\n",
    "api_key = os.getenv(\"GOOGLE-API-KEY\")\n"
   ]
  },
  {
   "cell_type": "markdown",
   "metadata": {},
   "source": [
    "## 3. Load Existing RAG Data"
   ]
  },
  {
   "cell_type": "code",
   "execution_count": 21,
   "metadata": {},
   "outputs": [],
   "source": [
    "with open('data/processed/chunked_documents.pkl', 'rb') as f:\n",
    "    chunked_documents = pickle.load(f)\n"
   ]
  },
  {
   "cell_type": "markdown",
   "metadata": {},
   "source": [
    "## 4. Initialize Vector Store"
   ]
  },
  {
   "cell_type": "code",
   "execution_count": null,
   "metadata": {},
   "outputs": [],
   "source": [
    "embedding_model = SentenceTransformer(\"intfloat/multilingual-e5-large\")\n"
   ]
  },
  {
   "cell_type": "code",
   "execution_count": null,
   "metadata": {},
   "outputs": [],
   "source": [
    "# Langchain wrapper \n",
    "embeddings = SentenceTransformerEmbeddings(\n",
    "    model_name=\"intfloat/multilingual-e5-large\",\n",
    "    model_kwargs={})"
   ]
  },
  {
   "cell_type": "code",
   "execution_count": null,
   "metadata": {},
   "outputs": [
    {
     "name": "stdout",
     "output_type": "stream",
     "text": [
      "✅ Created vector store with 257 documents\n"
     ]
    }
   ],
   "source": [
    "persist_directory = \"./chroma_db_langchain_e5\"\n",
    "\n",
    "if os.path.exists(persist_directory) and os.listdir(persist_directory):\n",
    "    vectorstore = Chroma( persist_directory=persist_directory, embedding_function=embeddings)\n",
    "else:\n",
    "\n",
    "    texts = [doc.page_content for doc in chunked_documents]\n",
    "    metadatas = [doc.metadata for doc in chunked_documents]\n",
    "    # Add task prefixes\n",
    "    texts_with_prefix = [f\"passage: {text}\" for text in texts]\n",
    "    \n",
    "    vectorstore = Chroma.from_texts(\n",
    "        texts=texts_with_prefix,\n",
    "        metadatas=metadatas,\n",
    "        embedding=embeddings,\n",
    "        persist_directory=persist_directory\n",
    "    )\n",
    "\n"
   ]
  },
  {
   "cell_type": "markdown",
   "metadata": {},
   "source": [
    "## 5. Initialize Gemini LLM"
   ]
  },
  {
   "cell_type": "code",
   "execution_count": 25,
   "metadata": {},
   "outputs": [
    {
     "name": "stdout",
     "output_type": "stream",
     "text": [
      "✅ Gemini LLM initialized\n"
     ]
    }
   ],
   "source": [
    "# Initialize Gemini LLM\n",
    "llm = ChatGoogleGenerativeAI(\n",
    "    model=\"gemini-2.0-flash\",\n",
    "    temperature=0.1,\n",
    "    convert_system_message_to_human=True,\n",
    "    google_api_key = api_key)\n",
    "\n",
    "print(\"✅ Gemini LLM initialized\")"
   ]
  },
  {
   "cell_type": "markdown",
   "metadata": {},
   "source": [
    "## 6. Create Custom RAG Chain"
   ]
  },
  {
   "cell_type": "code",
   "execution_count": null,
   "metadata": {},
   "outputs": [],
   "source": [
    "def detect_language(text):\n",
    "    \"\"\"Enhanced language detection for mixed Vietnamese-English queries\"\"\"\n",
    "    \n",
    "    from langdetect import detect\n",
    "    detected = detect(text)\n",
    "    \n",
    "    vietnamese_chars = set('àáạảãâầấậẩẫăằắặẳẵèéẹẻẽêềếệểễìíịỉĩòóọỏõôồốộổỗơờớợởỡùúụủũưừứựửữỳýỵỷỹđ')\n",
    "    has_vietnamese = any(char in vietnamese_chars for char in text.lower())\n",
    "    \n",
    "    if has_vietnamese or detected == 'vi':\n",
    "        return 'vi'\n",
    "    else:\n",
    "        return 'en'\n"
   ]
  },
  {
   "cell_type": "code",
   "execution_count": null,
   "metadata": {},
   "outputs": [],
   "source": [
    "\n",
    "def get_language_specific_prompt(language):\n",
    "    \"\"\"Get prompt template based on language\"\"\"\n",
    "    if language == 'vi':\n",
    "        vietnamese_template = \"\"\"Bạn là trợ lý AI chuyên về APEC 2025 Korea.\n",
    "\n",
    "        Hướng dẫn:\n",
    "        - Sử dụng thông tin được cung cấp để trả lời câu hỏi một cách chính xác\n",
    "        - Khi trình bày dữ liệu bảng, định dạng rõ ràng và dễ đọc\n",
    "        - Bao gồm các chi tiết cụ thể như ngày tháng, địa điểm và tên sự kiện\n",
    "        - Nếu ngữ cảnh chứa nhiều mục liên quan, hãy liệt kê tất cả\n",
    "        - Nếu không tìm thấy câu trả lời trong ngữ cảnh, hãy nói rõ ràng\n",
    "        - Trả lời bằng tiếng Việt\n",
    "\n",
    "        Ngữ cảnh:\n",
    "        {context}\n",
    "\n",
    "        Câu hỏi: {question}\n",
    "\n",
    "        Trả lời:\"\"\"\n",
    "        \n",
    "        return PromptTemplate(\n",
    "            template=vietnamese_template,\n",
    "            input_variables=[\"context\", \"question\"]\n",
    "        )\n",
    "    else:\n",
    "        english_template = \"\"\"You are an expert AI assistant specializing in APEC 2025 Korea information.\n",
    "\n",
    "        Instructions:\n",
    "        - Use the provided context to answer questions accurately\n",
    "        - When presenting table data, format it clearly and readably\n",
    "        - Include specific details like dates, venues, and event names\n",
    "        - If the context contains multiple relevant items, list them all\n",
    "        - If you cannot find the answer in the context, say so clearly\n",
    "        - Maintain accuracy of all factual information\n",
    "\n",
    "        Context:\n",
    "        {context}\n",
    "\n",
    "        Question: {question}\n",
    "\n",
    "        Answer:\"\"\"\n",
    "        \n",
    "        return PromptTemplate(\n",
    "            template=english_template,\n",
    "            input_variables=[\"context\", \"question\"]\n",
    "        )\n",
    "\n"
   ]
  },
  {
   "cell_type": "code",
   "execution_count": 37,
   "metadata": {},
   "outputs": [
    {
     "name": "stdout",
     "output_type": "stream",
     "text": [
      "✅ RAG chain created successfully\n"
     ]
    }
   ],
   "source": [
    "# Create the RAG chain\n",
    "qa_chain = RetrievalQA.from_chain_type(\n",
    "    llm=llm,\n",
    "    chain_type=\"stuff\",\n",
    "    retriever=vectorstore.as_retriever(\n",
    "        search_type=\"similarity\",\n",
    "        search_kwargs={\n",
    "            \"k\": 5, \n",
    "        }\n",
    "    ),\n",
    "    chain_type_kwargs={\"prompt\": PROMPT},\n",
    "    return_source_documents=True\n",
    ")\n",
    "\n",
    "print(\"✅ RAG chain created successfully\")"
   ]
  },
  {
   "cell_type": "markdown",
   "metadata": {},
   "source": [
    "## 7. Enhanced RAG Functions"
   ]
  },
  {
   "cell_type": "code",
   "execution_count": null,
   "metadata": {},
   "outputs": [],
   "source": [
    "def enhanced_rag_query(question, show_sources= True):\n",
    "    \n",
    "    # 1. Detect language \n",
    "    detected_language = detect_language(question)\n",
    "    \n",
    "    # 2. Get language-specific prompt\n",
    "    language_prompt = get_language_specific_prompt(detected_language)\n",
    "    \n",
    "    # 3. Create temporary chain with language-specific prompt\n",
    "    temp_qa_chain = RetrievalQA.from_chain_type(\n",
    "        llm=llm,\n",
    "        chain_type=\"stuff\",\n",
    "        retriever=vectorstore.as_retriever(\n",
    "            search_type=\"similarity\",\n",
    "            search_kwargs={\"k\": 5}\n",
    "        ),\n",
    "        chain_type_kwargs={\"prompt\": language_prompt},\n",
    "        return_source_documents=True\n",
    "    )\n",
    "    \n",
    "    search_question = f\"query: {question}\"\n",
    "    \n",
    "    result = temp_qa_chain({\"query\": search_question})\n",
    "    \n",
    "    sources = []\n",
    "    for doc in result[\"source_documents\"]:\n",
    "        source_info = {\n",
    "            \"title\": doc.metadata.get(\"title\", \"Unknown\"),\n",
    "            \"url\": doc.metadata.get(\"url\", \"\"),\n",
    "            \"contains_table\": doc.metadata.get(\"contains_table\", False),\n",
    "            \"chunk_length\": doc.metadata.get(\"chunk_length\", 0)\n",
    "        }\n",
    "        sources.append(source_info)\n",
    "    \n",
    "    response = {\n",
    "        \"answer\": result[\"result\"],\n",
    "        \"sources\": sources,\n",
    "        \"num_sources\": len(sources),\n",
    "        \"detected_language\": detected_language\n",
    "    }\n",
    "    \n",
    "    if show_sources:\n",
    "        lang_flag = \"vi\" if detected_language == 'vi' else \"en\"\n",
    "        print(f\"{lang_flag} Answer based on {len(sources)} sources:\")\n",
    "        print(f\"Tables included: {sum(1 for s in sources if s['contains_table'])}\")\n",
    "        print(\"\\n\" + \"=\"*60)\n",
    "        print(response[\"answer\"])\n",
    "        print(\"\\n\" + \"=\"*60)\n",
    "        print(\"Sources:\")\n",
    "        for i, source in enumerate(sources, 1):\n",
    "            table_indicator = \"Table used\" if source[\"contains_table\"] else \"No table used\"\n",
    "            print(f\"{i}. {table_indicator} {source['title']}\")\n",
    "    \n",
    "    return response"
   ]
  },
  {
   "cell_type": "markdown",
   "metadata": {},
   "source": [
    "## 8. Test the RAG System"
   ]
  },
  {
   "cell_type": "code",
   "execution_count": null,
   "metadata": {},
   "outputs": [
    {
     "name": "stdout",
     "output_type": "stream",
     "text": [
      "Test 1: General APEC question\n"
     ]
    },
    {
     "name": "stderr",
     "output_type": "stream",
     "text": [
      "/home/duyle/.pyenv/versions/3.10.16/lib/python3.10/site-packages/langchain_google_genai/chat_models.py:357: UserWarning: Convert_system_message_to_human will be deprecated!\n",
      "  warnings.warn(\"Convert_system_message_to_human will be deprecated!\")\n"
     ]
    },
    {
     "name": "stdout",
     "output_type": "stream",
     "text": [
      "vi Answer based on 5 sources:\n",
      "Tables included: 0\n",
      "\n",
      "============================================================\n",
      "APEC (Asia-Pacific Economic Cooperation) là một diễn đàn kinh tế khu vực được thành lập vào năm 1989 để tận dụng sự phụ thuộc lẫn nhau ngày càng tăng của khu vực Châu Á - Thái Bình Dương. APEC có 21 thành viên, với mục tiêu tạo ra sự thịnh vượng lớn hơn cho người dân trong khu vực bằng cách thúc đẩy tăng trưởng cân bằng, toàn diện, bền vững, đổi mới và an toàn, đồng thời đẩy nhanh hội nhập kinh tế khu vực. APEC đảm bảo hàng hóa, dịch vụ, đầu tư và con người di chuyển trơn tru qua biên giới. Các thành viên tạo điều kiện thuận lợi cho thương mại thông qua việc hợp lý hóa các thủ tục hải quan tại biên giới; thúc đẩy môi trường kinh doanh thuận lợi hơn; và điều phối các quy định và tiêu chuẩn trong khu vực. Đây là diễn đàn liên chính phủ toàn cầu duy nhất trên thế giới cam kết giảm các rào cản đối với thương mại và đầu tư mà không có các nghĩa vụ ràng buộc về mặt pháp lý. APEC đạt được các mục tiêu của mình bằng cách thúc đẩy đối thoại và đi đến các quyết định trên cơ sở đồng thuận, đồng thời coi trọng quan điểm của tất cả các thành viên.\n",
      "\n",
      "============================================================\n",
      "Sources:\n",
      "1. No table used About APEC > APEC 2025 KOREA\n",
      "2. No table used About APEC > APEC 2025 KOREA\n",
      "3. No table used About APEC > APEC 2025 KOREA\n",
      "4. No table used About APEC > APEC 2025 KOREA\n",
      "5. No table used Press Releases > APEC 2025 KOREA\n"
     ]
    }
   ],
   "source": [
    "# Test 1: General question\n",
    "print(\"Test 1: General APEC question\")\n",
    "response1 = enhanced_rag_query(\"APEC là gì\")"
   ]
  },
  {
   "cell_type": "code",
   "execution_count": null,
   "metadata": {},
   "outputs": [
    {
     "name": "stderr",
     "output_type": "stream",
     "text": [
      "/home/duyle/.pyenv/versions/3.10.16/lib/python3.10/site-packages/langchain_google_genai/chat_models.py:357: UserWarning: Convert_system_message_to_human will be deprecated!\n",
      "  warnings.warn(\"Convert_system_message_to_human will be deprecated!\")\n"
     ]
    },
    {
     "name": "stdout",
     "output_type": "stream",
     "text": [
      "vi Answer based on 5 sources:\n",
      "Tables included: 3\n",
      "\n",
      "============================================================\n",
      "Dưới đây là lịch các cuộc họp APEC 2025:\n",
      "\n",
      "| No. | Tên sự kiện                                                                 | Ngày                | Địa điểm           |\n",
      "|-----|------------------------------------------------------------------------------|---------------------|--------------------|\n",
      "| 1   | Informal Senior Officials’ Meeting (ISOM)                                  | 9 - 11 tháng 12, 2024 | Seoul              |\n",
      "| 2   | 1st APEC Business Advisory Council Meeting (ABAC)                           | 23 – 25 tháng 2, 2025 | Brisbane, Australia |\n",
      "| 3   | First Senior Officials’ Meeting and Related Meetings (SOM1)                  | 24 tháng 2 - 9 tháng 3, 2025 | Gyeongju           |\n",
      "| 4   | Finance and Central Bank Deputies’ Meeting (FCBDM)                          | 6 - 7 tháng 3, 2025   | Gyeongju           |\n",
      "| 5   | 2nd APEC Business Advisory Council Meeting (ABAC)                           | 23 - 26 tháng 4, 2025 | Toronto, Canada    |\n",
      "| 6   | APEC Ocean-Related Ministerial Meeting (AOMM)                               | 30 tháng 4 - 1 tháng 5, 2025 | Busan              |\n",
      "| 7   | Second Senior Officials’ Meeting and Related Meetings (SOM2)                 | 3 - 16 tháng 5, 2025  | Jeju               |\n",
      "| 8   | Human Resource Development Ministerial Meeting (HRDMM)                        | 11 - 13 tháng 5, 2025 | Jeju               |\n",
      "| 9   | APEC Education Ministerial Meeting (AEMM)                                  | 13 - 15 tháng 5, 2025 | Jeju               |\n",
      "| 10  | Ministers Responsible for Trade (MRT)                                      | 15 - 16 tháng 5, 2025 | Jeju               |\n",
      "| 11  | 3rd APEC Business Advisory Council Meeting (ABAC)                           | 15 - 18 tháng 7, 2025 | Hải Phòng, Việt Nam |\n",
      "| 12  | Third Senior Officials’ Meeting and Related Meetings (SOM3)                  | 26 tháng 7 - 15 tháng 8, 2025 | Incheon            |\n",
      "| 13  | APEC High-Level Dialogue of Anti-Corruption Cooperation (AHDAC)             | 31 tháng 7 - 1 tháng 8, 2025 | Incheon            |\n",
      "| 14  | Digital & AI Ministerial Meeting (DMM)                                     | 4 - 6 tháng 8, 2025   | Incheon            |\n",
      "| 15  | Food Security Ministerial Meeting (FSMM)                                    | 9 - 10 tháng 8, 2025  | Incheon            |\n",
      "| 16  | Women and the Economy Forum (WEF)                                          | 12 tháng 8, 2025     | Incheon            |\n",
      "| 17  | High-Level Dialogue on Culture (HLDC)                                      | 26 - 28 tháng 8, 2025 | Gyeongju           |\n",
      "| 18  | Energy Ministerial Meeting (EMM)                                           | 27 - 28 tháng 8, 2025 | Busan              |\n",
      "| 19  | Small and Medium Enterprises Ministerial Meeting (SMEMM)                     | 1 - 5 tháng 9, 2025   | Jeju               |\n",
      "| 20  | High-Level Meeting on Health and the Economy                               | 15 - 16 tháng 9, 2025 | Seoul              |\n",
      "| 21  | Finance Ministerial Meeting (FMM)                                           | 21 - 22 tháng 10, 2025 | Incheon            |\n",
      "| 22  | Structural Reform Ministerial Meeting (SRMM)                               | 21 - 23 tháng 10, 2025 | Incheon            |\n",
      "| 23  | 4th APEC Business Advisory Council Meeting (ABAC)                           | 26 - 28 tháng 10, 2025 | Busan              |\n",
      "| 24  | APEC CEO Summit                                                              | -                    | Gyeongju           |\n",
      "| 25  | APEC Economic Leaders’ Week (AELW)- Concluding Senior Officials’ Meeting (CSOM)- APEC Ministerial Meeting (AMM)- APEC Economic Leaders’ Meeting (AELM) | -                    | Gyeongju           |\n",
      "\n",
      "============================================================\n",
      "Sources:\n",
      "1. Table used Meetings > APEC 2025 KOREA\n",
      "2. Table used Side Events > APEC 2025 KOREA\n",
      "3. Table used Meetings > APEC 2025 KOREA\n",
      "4. No table used Notices > APEC 2025 KOREA\n",
      "5. No table used Notices > APEC 2025 KOREA\n"
     ]
    }
   ],
   "source": [
    "response1 = enhanced_rag_query(\"Lịch meetings APEC 2025\")"
   ]
  },
  {
   "cell_type": "code",
   "execution_count": null,
   "metadata": {},
   "outputs": [
    {
     "name": "stdout",
     "output_type": "stream",
     "text": [
      "\n",
      "🔍 Test 2: Table-specific question\n"
     ]
    },
    {
     "name": "stderr",
     "output_type": "stream",
     "text": [
      "/home/duyle/.pyenv/versions/3.10.16/lib/python3.10/site-packages/langchain_google_genai/chat_models.py:357: UserWarning: Convert_system_message_to_human will be deprecated!\n",
      "  warnings.warn(\"Convert_system_message_to_human will be deprecated!\")\n"
     ]
    },
    {
     "name": "stdout",
     "output_type": "stream",
     "text": [
      "vi Answer based on 5 sources:\n",
      "Tables included: 2\n",
      "\n",
      "============================================================\n",
      "Dưới đây là danh sách các cuộc họp APEC diễn ra vào tháng 5 năm 2025:\n",
      "\n",
      "| No. | Tên sự kiện                                                      | Ngày          | Địa điểm |\n",
      "|-----|-------------------------------------------------------------------|---------------|---------|\n",
      "| 7   | Second Senior Officials’ Meeting and Related Meetings (SOM2)       | 3 - 16/5/2025 | Jeju    |\n",
      "| 8   | Human Resource Development Ministerial Meeting (HRDMM)            | 11 - 13/5/2025| Jeju    |\n",
      "| 9   | APEC Education Ministerial Meeting(AEMM)                          | 13 - 15/5/2025| Jeju    |\n",
      "| 10  | Ministers Responsible for Trade (MRT)                             | 15 - 16/5/2025| Jeju    |\n",
      "\n",
      "Ngoài ra, có một số sự kiện bên lề diễn ra vào tháng 5 năm 2025:\n",
      "\n",
      "| No. | Tên sự kiện                                            | Ngày       | Địa điểm |\n",
      "|-----|---------------------------------------------------------|------------|---------|\n",
      "| 1   | International Forum on Disability Employment            | 6/5/2025   | Jeju    |\n",
      "| 2   | APEC Future Education Forum(AFEF)                       | 6/5/2025   | Jeju    |\n",
      "| 3   | HRDMM : Policy Experience Booths                        | 6 - 12/5/2025| Jeju    |\n",
      "| 4   | APEC Sustainable Social Entrepreneurship Training (ASSET) | 10/5/2025  | Jeju    |\n",
      "| 5   | Global Education Reform Conference                      | 13/5/2025  | Jeju    |\n",
      "| 6   | APEC University Leader’s Forum (AULF)                   | 13/5/2025  | Jeju    |\n",
      "| 7   | HRDMM : Field Trip                                      | 13/5/2025  | Jeju    |\n",
      "| 8   | Educational Innovation Achievement Sharing Exhibition Booth | 13 - 14/5/2025| Jeju    |\n",
      "| 9   | School Visit and Field Trip                             | 15/5/2025  | Jeju    |\n",
      "\n",
      "============================================================\n",
      "Sources:\n",
      "1. Table used Meetings > APEC 2025 KOREA\n",
      "2. Table used Side Events > APEC 2025 KOREA\n",
      "3. No table used Press Releases > APEC 2025 KOREA\n",
      "4. No table used Notices > APEC 2025 KOREA\n",
      "5. No table used Notices > APEC 2025 KOREA\n"
     ]
    }
   ],
   "source": [
    "print(\"\\n🔍 Test 2: Table-specific question\")\n",
    "response2 = enhanced_rag_query(\"Cho tôi biết về các cuộc họp APEC được xếp vào tháng 5 2025\")"
   ]
  },
  {
   "cell_type": "code",
   "execution_count": null,
   "metadata": {},
   "outputs": [
    {
     "name": "stdout",
     "output_type": "stream",
     "text": [
      "\n",
      "Test 3: Venue-specific question\n"
     ]
    },
    {
     "name": "stderr",
     "output_type": "stream",
     "text": [
      "/home/duyle/.pyenv/versions/3.10.16/lib/python3.10/site-packages/langchain_google_genai/chat_models.py:357: UserWarning: Convert_system_message_to_human will be deprecated!\n",
      "  warnings.warn(\"Convert_system_message_to_human will be deprecated!\")\n"
     ]
    },
    {
     "name": "stdout",
     "output_type": "stream",
     "text": [
      "vi Answer based on 5 sources:\n",
      "Tables included: 1\n",
      "\n",
      "============================================================\n",
      "Có, có nhiều cuộc họp diễn ra tại Jeju vào tháng 5 trong khuôn khổ APEC 2025 Korea. Dưới đây là danh sách các sự kiện được liệt kê:\n",
      "\n",
      "*   **International Forum on Disability Employment:** 6 tháng 5, 2025\n",
      "*   **APEC Future Education Forum (AFEF):** 6 tháng 5, 2025\n",
      "*   **HRDMM : Policy Experience Booths:** 6 - 12 tháng 5, 2025\n",
      "*   **APEC Sustainable Social Entrepreneurship Training (ASSET):** 10 tháng 5, 2025\n",
      "*   **Global Education Reform Conference:** 13 tháng 5, 2025\n",
      "*   **APEC University Leader’s Forum (AULF):** 13 tháng 5, 2025\n",
      "*   **HRDMM : Field Trip:** 13 tháng 5, 2025\n",
      "*   **Educational Innovation Achievement Sharing Exhibition Booth:** 13 - 14 tháng 5, 2025\n",
      "*   **APEC Second Senior Officials’ Meeting (SOM2):** 3 - 16 tháng 5, 2025\n",
      "*   **School Visit and Field Trip:** 15 tháng 5, 2025\n",
      "*   **Bilateral talks with trade representatives:** 14-16 tháng 5, 2025\n",
      "\n",
      "============================================================\n",
      "Sources:\n",
      "1. Table used Side Events > APEC 2025 KOREA\n",
      "2. No table used Press Releases > APEC 2025 KOREA\n",
      "3. No table used Press Releases > APEC 2025 KOREA\n",
      "4. No table used Press Releases > APEC 2025 KOREA\n",
      "5. No table used Press Releases > APEC 2025 KOREA\n"
     ]
    }
   ],
   "source": [
    "print(\"\\nTest 3: Venue-specific question\")\n",
    "response3 = enhanced_rag_query(\"Có cuộc họp nào vào tháng 5 at JeJu khong\")"
   ]
  }
 ],
 "metadata": {
  "kernelspec": {
   "display_name": "3.10.16",
   "language": "python",
   "name": "python3"
  },
  "language_info": {
   "codemirror_mode": {
    "name": "ipython",
    "version": 3
   },
   "file_extension": ".py",
   "mimetype": "text/x-python",
   "name": "python",
   "nbconvert_exporter": "python",
   "pygments_lexer": "ipython3",
   "version": "3.10.16"
  }
 },
 "nbformat": 4,
 "nbformat_minor": 4
}
