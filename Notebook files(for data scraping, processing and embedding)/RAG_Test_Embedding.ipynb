{
 "cells": [
  {
   "cell_type": "markdown",
   "metadata": {},
   "source": [
    "# Embedding & Vector Database (Chromadb)\n"
   ]
  },
  {
   "cell_type": "markdown",
   "metadata": {},
   "source": [
    "## 1. Libs"
   ]
  },
  {
   "cell_type": "code",
   "execution_count": 1,
   "metadata": {},
   "outputs": [
    {
     "name": "stdout",
     "output_type": "stream",
     "text": [
      "Requirement already satisfied: sentence-transformers in /home/duyle/.pyenv/versions/3.10.16/lib/python3.10/site-packages (4.1.0)\n",
      "Requirement already satisfied: chromadb in /home/duyle/.pyenv/versions/3.10.16/lib/python3.10/site-packages (1.0.15)\n",
      "Requirement already satisfied: langchain in /home/duyle/.pyenv/versions/3.10.16/lib/python3.10/site-packages (0.3.26)\n",
      "Requirement already satisfied: pandas in /home/duyle/.pyenv/versions/3.10.16/lib/python3.10/site-packages (2.3.0)\n",
      "Requirement already satisfied: numpy in /home/duyle/.pyenv/versions/3.10.16/lib/python3.10/site-packages (2.1.3)\n",
      "Requirement already satisfied: tqdm in /home/duyle/.pyenv/versions/3.10.16/lib/python3.10/site-packages (4.67.1)\n",
      "Requirement already satisfied: transformers<5.0.0,>=4.41.0 in /home/duyle/.pyenv/versions/3.10.16/lib/python3.10/site-packages (from sentence-transformers) (4.52.4)\n",
      "Requirement already satisfied: torch>=1.11.0 in /home/duyle/.pyenv/versions/3.10.16/lib/python3.10/site-packages (from sentence-transformers) (2.7.1)\n",
      "Requirement already satisfied: scikit-learn in /home/duyle/.pyenv/versions/3.10.16/lib/python3.10/site-packages (from sentence-transformers) (1.6.1)\n",
      "Requirement already satisfied: scipy in /home/duyle/.pyenv/versions/3.10.16/lib/python3.10/site-packages (from sentence-transformers) (1.15.2)\n",
      "Requirement already satisfied: huggingface-hub>=0.20.0 in /home/duyle/.pyenv/versions/3.10.16/lib/python3.10/site-packages (from sentence-transformers) (0.33.0)\n",
      "Requirement already satisfied: Pillow in /home/duyle/.pyenv/versions/3.10.16/lib/python3.10/site-packages (from sentence-transformers) (10.2.0)\n",
      "Requirement already satisfied: typing_extensions>=4.5.0 in /home/duyle/.pyenv/versions/3.10.16/lib/python3.10/site-packages (from sentence-transformers) (4.12.2)\n",
      "Requirement already satisfied: filelock in /home/duyle/.pyenv/versions/3.10.16/lib/python3.10/site-packages (from transformers<5.0.0,>=4.41.0->sentence-transformers) (3.18.0)\n",
      "Requirement already satisfied: packaging>=20.0 in /home/duyle/.pyenv/versions/3.10.16/lib/python3.10/site-packages (from transformers<5.0.0,>=4.41.0->sentence-transformers) (24.2)\n",
      "Requirement already satisfied: pyyaml>=5.1 in /home/duyle/.pyenv/versions/3.10.16/lib/python3.10/site-packages (from transformers<5.0.0,>=4.41.0->sentence-transformers) (6.0.2)\n",
      "Requirement already satisfied: regex!=2019.12.17 in /home/duyle/.pyenv/versions/3.10.16/lib/python3.10/site-packages (from transformers<5.0.0,>=4.41.0->sentence-transformers) (2024.11.6)\n",
      "Requirement already satisfied: requests in /home/duyle/.pyenv/versions/3.10.16/lib/python3.10/site-packages (from transformers<5.0.0,>=4.41.0->sentence-transformers) (2.32.3)\n",
      "Requirement already satisfied: tokenizers<0.22,>=0.21 in /home/duyle/.pyenv/versions/3.10.16/lib/python3.10/site-packages (from transformers<5.0.0,>=4.41.0->sentence-transformers) (0.21.1)\n",
      "Requirement already satisfied: safetensors>=0.4.3 in /home/duyle/.pyenv/versions/3.10.16/lib/python3.10/site-packages (from transformers<5.0.0,>=4.41.0->sentence-transformers) (0.5.3)\n",
      "Requirement already satisfied: fsspec>=2023.5.0 in /home/duyle/.pyenv/versions/3.10.16/lib/python3.10/site-packages (from huggingface-hub>=0.20.0->sentence-transformers) (2025.5.1)\n",
      "Requirement already satisfied: hf-xet<2.0.0,>=1.1.2 in /home/duyle/.pyenv/versions/3.10.16/lib/python3.10/site-packages (from huggingface-hub>=0.20.0->sentence-transformers) (1.1.4)\n",
      "Requirement already satisfied: build>=1.0.3 in /home/duyle/.pyenv/versions/3.10.16/lib/python3.10/site-packages (from chromadb) (1.2.2.post1)\n",
      "Requirement already satisfied: pydantic>=1.9 in /home/duyle/.pyenv/versions/3.10.16/lib/python3.10/site-packages (from chromadb) (2.8.2)\n",
      "Requirement already satisfied: pybase64>=1.4.1 in /home/duyle/.pyenv/versions/3.10.16/lib/python3.10/site-packages (from chromadb) (1.4.1)\n",
      "Requirement already satisfied: uvicorn>=0.18.3 in /home/duyle/.pyenv/versions/3.10.16/lib/python3.10/site-packages (from uvicorn[standard]>=0.18.3->chromadb) (0.34.0)\n",
      "Requirement already satisfied: posthog<6.0.0,>=2.4.0 in /home/duyle/.pyenv/versions/3.10.16/lib/python3.10/site-packages (from chromadb) (5.4.0)\n",
      "Requirement already satisfied: onnxruntime>=1.14.1 in /home/duyle/.pyenv/versions/3.10.16/lib/python3.10/site-packages (from chromadb) (1.22.0)\n",
      "Requirement already satisfied: opentelemetry-api>=1.2.0 in /home/duyle/.pyenv/versions/3.10.16/lib/python3.10/site-packages (from chromadb) (1.34.1)\n",
      "Requirement already satisfied: opentelemetry-exporter-otlp-proto-grpc>=1.2.0 in /home/duyle/.pyenv/versions/3.10.16/lib/python3.10/site-packages (from chromadb) (1.34.1)\n",
      "Requirement already satisfied: opentelemetry-sdk>=1.2.0 in /home/duyle/.pyenv/versions/3.10.16/lib/python3.10/site-packages (from chromadb) (1.34.1)\n",
      "Requirement already satisfied: pypika>=0.48.9 in /home/duyle/.pyenv/versions/3.10.16/lib/python3.10/site-packages (from chromadb) (0.48.9)\n",
      "Requirement already satisfied: overrides>=7.3.1 in /home/duyle/.pyenv/versions/3.10.16/lib/python3.10/site-packages (from chromadb) (7.7.0)\n",
      "Requirement already satisfied: importlib-resources in /home/duyle/.pyenv/versions/3.10.16/lib/python3.10/site-packages (from chromadb) (6.5.2)\n",
      "Requirement already satisfied: grpcio>=1.58.0 in /home/duyle/.pyenv/versions/3.10.16/lib/python3.10/site-packages (from chromadb) (1.73.1)\n",
      "Requirement already satisfied: bcrypt>=4.0.1 in /home/duyle/.pyenv/versions/3.10.16/lib/python3.10/site-packages (from chromadb) (4.3.0)\n",
      "Requirement already satisfied: typer>=0.9.0 in /home/duyle/.pyenv/versions/3.10.16/lib/python3.10/site-packages (from chromadb) (0.16.0)\n",
      "Requirement already satisfied: kubernetes>=28.1.0 in /home/duyle/.pyenv/versions/3.10.16/lib/python3.10/site-packages (from chromadb) (33.1.0)\n",
      "Requirement already satisfied: tenacity>=8.2.3 in /home/duyle/.pyenv/versions/3.10.16/lib/python3.10/site-packages (from chromadb) (9.1.2)\n",
      "Requirement already satisfied: mmh3>=4.0.1 in /home/duyle/.pyenv/versions/3.10.16/lib/python3.10/site-packages (from chromadb) (5.1.0)\n",
      "Requirement already satisfied: orjson>=3.9.12 in /home/duyle/.pyenv/versions/3.10.16/lib/python3.10/site-packages (from chromadb) (3.10.18)\n",
      "Requirement already satisfied: httpx>=0.27.0 in /home/duyle/.pyenv/versions/3.10.16/lib/python3.10/site-packages (from chromadb) (0.27.2)\n",
      "Requirement already satisfied: rich>=10.11.0 in /home/duyle/.pyenv/versions/3.10.16/lib/python3.10/site-packages (from chromadb) (13.9.4)\n",
      "Requirement already satisfied: jsonschema>=4.19.0 in /home/duyle/.pyenv/versions/3.10.16/lib/python3.10/site-packages (from chromadb) (4.20.0)\n",
      "Requirement already satisfied: six>=1.5 in /home/duyle/.pyenv/versions/3.10.16/lib/python3.10/site-packages (from posthog<6.0.0,>=2.4.0->chromadb) (1.17.0)\n",
      "Requirement already satisfied: python-dateutil>=2.2 in /home/duyle/.pyenv/versions/3.10.16/lib/python3.10/site-packages (from posthog<6.0.0,>=2.4.0->chromadb) (2.9.0.post0)\n",
      "Requirement already satisfied: backoff>=1.10.0 in /home/duyle/.pyenv/versions/3.10.16/lib/python3.10/site-packages (from posthog<6.0.0,>=2.4.0->chromadb) (2.2.1)\n",
      "Requirement already satisfied: distro>=1.5.0 in /home/duyle/.pyenv/versions/3.10.16/lib/python3.10/site-packages (from posthog<6.0.0,>=2.4.0->chromadb) (1.9.0)\n",
      "Requirement already satisfied: charset-normalizer<4,>=2 in /home/duyle/.pyenv/versions/3.10.16/lib/python3.10/site-packages (from requests->transformers<5.0.0,>=4.41.0->sentence-transformers) (3.4.1)\n",
      "Requirement already satisfied: idna<4,>=2.5 in /home/duyle/.pyenv/versions/3.10.16/lib/python3.10/site-packages (from requests->transformers<5.0.0,>=4.41.0->sentence-transformers) (3.10)\n",
      "Requirement already satisfied: urllib3<3,>=1.21.1 in /home/duyle/.pyenv/versions/3.10.16/lib/python3.10/site-packages (from requests->transformers<5.0.0,>=4.41.0->sentence-transformers) (1.26.15)\n",
      "Requirement already satisfied: certifi>=2017.4.17 in /home/duyle/.pyenv/versions/3.10.16/lib/python3.10/site-packages (from requests->transformers<5.0.0,>=4.41.0->sentence-transformers) (2025.1.31)\n",
      "Requirement already satisfied: langchain-core<1.0.0,>=0.3.66 in /home/duyle/.pyenv/versions/3.10.16/lib/python3.10/site-packages (from langchain) (0.3.68)\n",
      "Requirement already satisfied: langchain-text-splitters<1.0.0,>=0.3.8 in /home/duyle/.pyenv/versions/3.10.16/lib/python3.10/site-packages (from langchain) (0.3.8)\n",
      "Requirement already satisfied: langsmith>=0.1.17 in /home/duyle/.pyenv/versions/3.10.16/lib/python3.10/site-packages (from langchain) (0.4.4)\n",
      "Requirement already satisfied: SQLAlchemy<3,>=1.4 in /home/duyle/.pyenv/versions/3.10.16/lib/python3.10/site-packages (from langchain) (2.0.41)\n",
      "Requirement already satisfied: async-timeout<5.0.0,>=4.0.0 in /home/duyle/.pyenv/versions/3.10.16/lib/python3.10/site-packages (from langchain) (4.0.3)\n",
      "Requirement already satisfied: jsonpatch<2.0,>=1.33 in /home/duyle/.pyenv/versions/3.10.16/lib/python3.10/site-packages (from langchain-core<1.0.0,>=0.3.66->langchain) (1.33)\n",
      "Requirement already satisfied: jsonpointer>=1.9 in /home/duyle/.pyenv/versions/3.10.16/lib/python3.10/site-packages (from jsonpatch<2.0,>=1.33->langchain-core<1.0.0,>=0.3.66->langchain) (3.0.0)\n",
      "Requirement already satisfied: annotated-types>=0.4.0 in /home/duyle/.pyenv/versions/3.10.16/lib/python3.10/site-packages (from pydantic>=1.9->chromadb) (0.7.0)\n",
      "Requirement already satisfied: pydantic-core==2.20.1 in /home/duyle/.pyenv/versions/3.10.16/lib/python3.10/site-packages (from pydantic>=1.9->chromadb) (2.20.1)\n",
      "Requirement already satisfied: greenlet>=1 in /home/duyle/.pyenv/versions/3.10.16/lib/python3.10/site-packages (from SQLAlchemy<3,>=1.4->langchain) (3.1.1)\n",
      "Requirement already satisfied: pytz>=2020.1 in /home/duyle/.pyenv/versions/3.10.16/lib/python3.10/site-packages (from pandas) (2025.1)\n",
      "Requirement already satisfied: tzdata>=2022.7 in /home/duyle/.pyenv/versions/3.10.16/lib/python3.10/site-packages (from pandas) (2025.1)\n",
      "Requirement already satisfied: pyproject_hooks in /home/duyle/.pyenv/versions/3.10.16/lib/python3.10/site-packages (from build>=1.0.3->chromadb) (1.2.0)\n",
      "Requirement already satisfied: tomli>=1.1.0 in /home/duyle/.pyenv/versions/3.10.16/lib/python3.10/site-packages (from build>=1.0.3->chromadb) (2.2.1)\n",
      "Requirement already satisfied: anyio in /home/duyle/.pyenv/versions/3.10.16/lib/python3.10/site-packages (from httpx>=0.27.0->chromadb) (4.2.0)\n",
      "Requirement already satisfied: httpcore==1.* in /home/duyle/.pyenv/versions/3.10.16/lib/python3.10/site-packages (from httpx>=0.27.0->chromadb) (1.0.7)\n",
      "Requirement already satisfied: sniffio in /home/duyle/.pyenv/versions/3.10.16/lib/python3.10/site-packages (from httpx>=0.27.0->chromadb) (1.3.1)\n",
      "Requirement already satisfied: h11<0.15,>=0.13 in /home/duyle/.pyenv/versions/3.10.16/lib/python3.10/site-packages (from httpcore==1.*->httpx>=0.27.0->chromadb) (0.14.0)\n",
      "Requirement already satisfied: attrs>=22.2.0 in /home/duyle/.pyenv/versions/3.10.16/lib/python3.10/site-packages (from jsonschema>=4.19.0->chromadb) (25.1.0)\n",
      "Requirement already satisfied: jsonschema-specifications>=2023.03.6 in /home/duyle/.pyenv/versions/3.10.16/lib/python3.10/site-packages (from jsonschema>=4.19.0->chromadb) (2024.10.1)\n",
      "Requirement already satisfied: referencing>=0.28.4 in /home/duyle/.pyenv/versions/3.10.16/lib/python3.10/site-packages (from jsonschema>=4.19.0->chromadb) (0.36.2)\n",
      "Requirement already satisfied: rpds-py>=0.7.1 in /home/duyle/.pyenv/versions/3.10.16/lib/python3.10/site-packages (from jsonschema>=4.19.0->chromadb) (0.23.1)\n",
      "Requirement already satisfied: google-auth>=1.0.1 in /home/duyle/.pyenv/versions/3.10.16/lib/python3.10/site-packages (from kubernetes>=28.1.0->chromadb) (2.40.3)\n",
      "Requirement already satisfied: websocket-client!=0.40.0,!=0.41.*,!=0.42.*,>=0.32.0 in /home/duyle/.pyenv/versions/3.10.16/lib/python3.10/site-packages (from kubernetes>=28.1.0->chromadb) (1.8.0)\n",
      "Requirement already satisfied: requests-oauthlib in /home/duyle/.pyenv/versions/3.10.16/lib/python3.10/site-packages (from kubernetes>=28.1.0->chromadb) (2.0.0)\n",
      "Requirement already satisfied: oauthlib>=3.2.2 in /home/duyle/.pyenv/versions/3.10.16/lib/python3.10/site-packages (from kubernetes>=28.1.0->chromadb) (3.3.1)\n",
      "Requirement already satisfied: durationpy>=0.7 in /home/duyle/.pyenv/versions/3.10.16/lib/python3.10/site-packages (from kubernetes>=28.1.0->chromadb) (0.10)\n",
      "Requirement already satisfied: cachetools<6.0,>=2.0.0 in /home/duyle/.pyenv/versions/3.10.16/lib/python3.10/site-packages (from google-auth>=1.0.1->kubernetes>=28.1.0->chromadb) (5.5.0)\n",
      "Requirement already satisfied: pyasn1-modules>=0.2.1 in /home/duyle/.pyenv/versions/3.10.16/lib/python3.10/site-packages (from google-auth>=1.0.1->kubernetes>=28.1.0->chromadb) (0.4.2)\n",
      "Requirement already satisfied: rsa<5,>=3.1.4 in /home/duyle/.pyenv/versions/3.10.16/lib/python3.10/site-packages (from google-auth>=1.0.1->kubernetes>=28.1.0->chromadb) (4.9.1)\n",
      "Requirement already satisfied: pyasn1>=0.1.3 in /home/duyle/.pyenv/versions/3.10.16/lib/python3.10/site-packages (from rsa<5,>=3.1.4->google-auth>=1.0.1->kubernetes>=28.1.0->chromadb) (0.6.1)\n",
      "Requirement already satisfied: requests-toolbelt<2.0.0,>=1.0.0 in /home/duyle/.pyenv/versions/3.10.16/lib/python3.10/site-packages (from langsmith>=0.1.17->langchain) (1.0.0)\n",
      "Requirement already satisfied: zstandard<0.24.0,>=0.23.0 in /home/duyle/.pyenv/versions/3.10.16/lib/python3.10/site-packages (from langsmith>=0.1.17->langchain) (0.23.0)\n",
      "Requirement already satisfied: coloredlogs in /home/duyle/.pyenv/versions/3.10.16/lib/python3.10/site-packages (from onnxruntime>=1.14.1->chromadb) (15.0.1)\n",
      "Requirement already satisfied: flatbuffers in /home/duyle/.pyenv/versions/3.10.16/lib/python3.10/site-packages (from onnxruntime>=1.14.1->chromadb) (25.2.10)\n",
      "Requirement already satisfied: protobuf in /home/duyle/.pyenv/versions/3.10.16/lib/python3.10/site-packages (from onnxruntime>=1.14.1->chromadb) (5.29.5)\n",
      "Requirement already satisfied: sympy in /home/duyle/.pyenv/versions/3.10.16/lib/python3.10/site-packages (from onnxruntime>=1.14.1->chromadb) (1.14.0)\n",
      "Requirement already satisfied: importlib-metadata<8.8.0,>=6.0 in /home/duyle/.pyenv/versions/3.10.16/lib/python3.10/site-packages (from opentelemetry-api>=1.2.0->chromadb) (8.6.1)\n",
      "Requirement already satisfied: zipp>=3.20 in /home/duyle/.pyenv/versions/3.10.16/lib/python3.10/site-packages (from importlib-metadata<8.8.0,>=6.0->opentelemetry-api>=1.2.0->chromadb) (3.21.0)\n",
      "Requirement already satisfied: googleapis-common-protos~=1.52 in /home/duyle/.pyenv/versions/3.10.16/lib/python3.10/site-packages (from opentelemetry-exporter-otlp-proto-grpc>=1.2.0->chromadb) (1.70.0)\n",
      "Requirement already satisfied: opentelemetry-exporter-otlp-proto-common==1.34.1 in /home/duyle/.pyenv/versions/3.10.16/lib/python3.10/site-packages (from opentelemetry-exporter-otlp-proto-grpc>=1.2.0->chromadb) (1.34.1)\n",
      "Requirement already satisfied: opentelemetry-proto==1.34.1 in /home/duyle/.pyenv/versions/3.10.16/lib/python3.10/site-packages (from opentelemetry-exporter-otlp-proto-grpc>=1.2.0->chromadb) (1.34.1)\n",
      "Requirement already satisfied: opentelemetry-semantic-conventions==0.55b1 in /home/duyle/.pyenv/versions/3.10.16/lib/python3.10/site-packages (from opentelemetry-sdk>=1.2.0->chromadb) (0.55b1)\n",
      "Requirement already satisfied: markdown-it-py>=2.2.0 in /home/duyle/.pyenv/versions/3.10.16/lib/python3.10/site-packages (from rich>=10.11.0->chromadb) (3.0.0)\n",
      "Requirement already satisfied: pygments<3.0.0,>=2.13.0 in /home/duyle/.pyenv/versions/3.10.16/lib/python3.10/site-packages (from rich>=10.11.0->chromadb) (2.19.1)\n",
      "Requirement already satisfied: mdurl~=0.1 in /home/duyle/.pyenv/versions/3.10.16/lib/python3.10/site-packages (from markdown-it-py>=2.2.0->rich>=10.11.0->chromadb) (0.1.2)\n",
      "Requirement already satisfied: networkx in /home/duyle/.pyenv/versions/3.10.16/lib/python3.10/site-packages (from torch>=1.11.0->sentence-transformers) (3.4.2)\n",
      "Requirement already satisfied: jinja2 in /home/duyle/.pyenv/versions/3.10.16/lib/python3.10/site-packages (from torch>=1.11.0->sentence-transformers) (3.1.5)\n",
      "Requirement already satisfied: nvidia-cuda-nvrtc-cu12==12.6.77 in /home/duyle/.pyenv/versions/3.10.16/lib/python3.10/site-packages (from torch>=1.11.0->sentence-transformers) (12.6.77)\n",
      "Requirement already satisfied: nvidia-cuda-runtime-cu12==12.6.77 in /home/duyle/.pyenv/versions/3.10.16/lib/python3.10/site-packages (from torch>=1.11.0->sentence-transformers) (12.6.77)\n",
      "Requirement already satisfied: nvidia-cuda-cupti-cu12==12.6.80 in /home/duyle/.pyenv/versions/3.10.16/lib/python3.10/site-packages (from torch>=1.11.0->sentence-transformers) (12.6.80)\n",
      "Requirement already satisfied: nvidia-cudnn-cu12==9.5.1.17 in /home/duyle/.pyenv/versions/3.10.16/lib/python3.10/site-packages (from torch>=1.11.0->sentence-transformers) (9.5.1.17)\n",
      "Requirement already satisfied: nvidia-cublas-cu12==12.6.4.1 in /home/duyle/.pyenv/versions/3.10.16/lib/python3.10/site-packages (from torch>=1.11.0->sentence-transformers) (12.6.4.1)\n",
      "Requirement already satisfied: nvidia-cufft-cu12==11.3.0.4 in /home/duyle/.pyenv/versions/3.10.16/lib/python3.10/site-packages (from torch>=1.11.0->sentence-transformers) (11.3.0.4)\n",
      "Requirement already satisfied: nvidia-curand-cu12==10.3.7.77 in /home/duyle/.pyenv/versions/3.10.16/lib/python3.10/site-packages (from torch>=1.11.0->sentence-transformers) (10.3.7.77)\n",
      "Requirement already satisfied: nvidia-cusolver-cu12==11.7.1.2 in /home/duyle/.pyenv/versions/3.10.16/lib/python3.10/site-packages (from torch>=1.11.0->sentence-transformers) (11.7.1.2)\n",
      "Requirement already satisfied: nvidia-cusparse-cu12==12.5.4.2 in /home/duyle/.pyenv/versions/3.10.16/lib/python3.10/site-packages (from torch>=1.11.0->sentence-transformers) (12.5.4.2)\n",
      "Requirement already satisfied: nvidia-cusparselt-cu12==0.6.3 in /home/duyle/.pyenv/versions/3.10.16/lib/python3.10/site-packages (from torch>=1.11.0->sentence-transformers) (0.6.3)\n",
      "Requirement already satisfied: nvidia-nccl-cu12==2.26.2 in /home/duyle/.pyenv/versions/3.10.16/lib/python3.10/site-packages (from torch>=1.11.0->sentence-transformers) (2.26.2)\n",
      "Requirement already satisfied: nvidia-nvtx-cu12==12.6.77 in /home/duyle/.pyenv/versions/3.10.16/lib/python3.10/site-packages (from torch>=1.11.0->sentence-transformers) (12.6.77)\n",
      "Requirement already satisfied: nvidia-nvjitlink-cu12==12.6.85 in /home/duyle/.pyenv/versions/3.10.16/lib/python3.10/site-packages (from torch>=1.11.0->sentence-transformers) (12.6.85)\n",
      "Requirement already satisfied: nvidia-cufile-cu12==1.11.1.6 in /home/duyle/.pyenv/versions/3.10.16/lib/python3.10/site-packages (from torch>=1.11.0->sentence-transformers) (1.11.1.6)\n",
      "Requirement already satisfied: triton==3.3.1 in /home/duyle/.pyenv/versions/3.10.16/lib/python3.10/site-packages (from torch>=1.11.0->sentence-transformers) (3.3.1)\n",
      "Requirement already satisfied: setuptools>=40.8.0 in /home/duyle/.pyenv/versions/3.10.16/lib/python3.10/site-packages (from triton==3.3.1->torch>=1.11.0->sentence-transformers) (65.5.0)\n",
      "Requirement already satisfied: mpmath<1.4,>=1.1.0 in /home/duyle/.pyenv/versions/3.10.16/lib/python3.10/site-packages (from sympy->onnxruntime>=1.14.1->chromadb) (1.3.0)\n",
      "Requirement already satisfied: click>=8.0.0 in /home/duyle/.pyenv/versions/3.10.16/lib/python3.10/site-packages (from typer>=0.9.0->chromadb) (8.1.8)\n",
      "Requirement already satisfied: shellingham>=1.3.0 in /home/duyle/.pyenv/versions/3.10.16/lib/python3.10/site-packages (from typer>=0.9.0->chromadb) (1.5.4)\n",
      "Requirement already satisfied: httptools>=0.6.3 in /home/duyle/.pyenv/versions/3.10.16/lib/python3.10/site-packages (from uvicorn[standard]>=0.18.3->chromadb) (0.6.4)\n",
      "Requirement already satisfied: python-dotenv>=0.13 in /home/duyle/.pyenv/versions/3.10.16/lib/python3.10/site-packages (from uvicorn[standard]>=0.18.3->chromadb) (1.0.0)\n",
      "Requirement already satisfied: uvloop!=0.15.0,!=0.15.1,>=0.14.0 in /home/duyle/.pyenv/versions/3.10.16/lib/python3.10/site-packages (from uvicorn[standard]>=0.18.3->chromadb) (0.21.0)\n",
      "Requirement already satisfied: watchfiles>=0.13 in /home/duyle/.pyenv/versions/3.10.16/lib/python3.10/site-packages (from uvicorn[standard]>=0.18.3->chromadb) (0.24.0)\n",
      "Requirement already satisfied: websockets>=10.4 in /home/duyle/.pyenv/versions/3.10.16/lib/python3.10/site-packages (from uvicorn[standard]>=0.18.3->chromadb) (13.1)\n",
      "Requirement already satisfied: exceptiongroup>=1.0.2 in /home/duyle/.pyenv/versions/3.10.16/lib/python3.10/site-packages (from anyio->httpx>=0.27.0->chromadb) (1.2.2)\n",
      "Requirement already satisfied: humanfriendly>=9.1 in /home/duyle/.pyenv/versions/3.10.16/lib/python3.10/site-packages (from coloredlogs->onnxruntime>=1.14.1->chromadb) (10.0)\n",
      "Requirement already satisfied: MarkupSafe>=2.0 in /home/duyle/.pyenv/versions/3.10.16/lib/python3.10/site-packages (from jinja2->torch>=1.11.0->sentence-transformers) (2.1.5)\n",
      "Requirement already satisfied: joblib>=1.2.0 in /home/duyle/.pyenv/versions/3.10.16/lib/python3.10/site-packages (from scikit-learn->sentence-transformers) (1.4.2)\n",
      "Requirement already satisfied: threadpoolctl>=3.1.0 in /home/duyle/.pyenv/versions/3.10.16/lib/python3.10/site-packages (from scikit-learn->sentence-transformers) (3.5.0)\n",
      "Note: you may need to restart the kernel to use updated packages.\n"
     ]
    }
   ],
   "source": [
    "# Install required packages\n",
    "%pip install sentence-transformers chromadb langchain pandas numpy tqdm"
   ]
  },
  {
   "cell_type": "code",
   "execution_count": 17,
   "metadata": {},
   "outputs": [],
   "source": [
    "import json\n",
    "import os\n",
    "import pandas as pd\n",
    "import numpy as np\n",
    "import pickle\n",
    "from typing import List, Dict, Any\n",
    "from pathlib import Path\n",
    "from tqdm import tqdm\n",
    "\n",
    "# RAG components\n",
    "from sentence_transformers import SentenceTransformer\n",
    "import chromadb\n",
    "from langchain.docstore.document import Document"
   ]
  },
  {
   "cell_type": "markdown",
   "metadata": {},
   "source": [
    "## 2. Load data"
   ]
  },
  {
   "cell_type": "code",
   "execution_count": 18,
   "metadata": {},
   "outputs": [
    {
     "name": "stdout",
     "output_type": "stream",
     "text": [
      "257 chunks\n"
     ]
    }
   ],
   "source": [
    "\n",
    "with open('data/processed/chunked_documents.pkl', 'rb') as f:\n",
    "    chunked_documents = pickle.load(f)\n",
    "print(f\"{len(chunked_documents)} chunks\")\n"
   ]
  },
  {
   "cell_type": "markdown",
   "metadata": {},
   "source": [
    "## 3. Initialize "
   ]
  },
  {
   "cell_type": "code",
   "execution_count": 22,
   "metadata": {},
   "outputs": [],
   "source": [
    "embedding_model = SentenceTransformer(\"intfloat/multilingual-e5-base\")"
   ]
  },
  {
   "cell_type": "markdown",
   "metadata": {},
   "source": [
    "## 4. Create Embeddings with Task Instructions"
   ]
  },
  {
   "cell_type": "code",
   "execution_count": null,
   "metadata": {},
   "outputs": [
    {
     "name": "stderr",
     "output_type": "stream",
     "text": [
      "Batches: 100%|██████████| 9/9 [01:08<00:00,  7.59s/it]\n"
     ]
    }
   ],
   "source": [
    "doc_texts = [f\"passage: {doc.page_content}\" for doc in chunked_documents]\n",
    "\n",
    "all_embeddings = embedding_model.encode( doc_texts, show_progress_bar=True,normalize_embeddings=True)\n",
    "\n",
    "os.makedirs('data/processed', exist_ok=True)\n",
    "np.save('data/processed/nomic_embeddings.npy', all_embeddings)"
   ]
  },
  {
   "cell_type": "markdown",
   "metadata": {},
   "source": [
    "## 5. Setup ChromaDB Vector Database"
   ]
  },
  {
   "cell_type": "code",
   "execution_count": null,
   "metadata": {},
   "outputs": [],
   "source": [
    "\n",
    "chroma_client = chromadb.PersistentClient(path=\"./chroma_db_multi_lang\")\n",
    "\n",
    "collection = chroma_client.create_collection(\n",
    "    name=\"apec_nomic_fixed\",\n",
    "    metadata={\"hnsw:space\": \"cosine\"}  \n",
    ")\n"
   ]
  },
  {
   "cell_type": "code",
   "execution_count": null,
   "metadata": {},
   "outputs": [],
   "source": [
    "\n",
    "# Prepare data\n",
    "ids = [f\"chunk_{i}\" for i in range(len(chunked_documents))]\n",
    "embeddings = all_embeddings.tolist()\n",
    "documents = [doc.page_content for doc in chunked_documents]\n",
    "metadatas = [doc.metadata for doc in chunked_documents]\n",
    "\n",
    "batch_size = 100\n",
    "for i in tqdm(range(0, len(ids), batch_size), desc=\"Adding to ChromaDB\"):\n",
    "    end_idx = min(i + batch_size, len(ids))\n",
    "    \n",
    "    collection.add(\n",
    "        ids=ids[i:end_idx],\n",
    "        embeddings=embeddings[i:end_idx],\n",
    "        documents=documents[i:end_idx],\n",
    "        metadatas=metadatas[i:end_idx]\n",
    "    )\n",
    "\n",
    "print(f\"✅ Added {collection.count()} documents\")"
   ]
  },
  {
   "cell_type": "markdown",
   "metadata": {},
   "source": [
    "## 6. Test"
   ]
  },
  {
   "cell_type": "code",
   "execution_count": null,
   "metadata": {},
   "outputs": [],
   "source": [
    "def search_fixed(query, top_k=5):\n",
    "    \"\"\"Fixed search function with proper similarity calculation\"\"\"\n",
    "    print(f\"🔍 Searching: '{query}'\")\n",
    "    \n",
    "    query_text = f\"query: {query}\"\n",
    "    query_embedding = embedding_model.encode([query_text], normalize_embeddings=True)\n",
    "    \n",
    "    results = collection.query(\n",
    "        query_embeddings=query_embedding.tolist(),\n",
    "        n_results=top_k,\n",
    "        include=[\"documents\", \"metadatas\", \"distances\"]\n",
    "    )\n",
    "    \n",
    "    print(f\"\\n📊 Found {len(results['documents'][0])} results:\")\n",
    "    print(\"=\" * 60)\n",
    "    \n",
    "    for i, (doc, metadata, distance) in enumerate(zip(results['documents'][0], results['metadatas'][0], results['distances'][0])):\n",
    "        similarity = 1 - distance\n",
    "        \n",
    "        print(f\"\\nResult {i+1}:\")\n",
    "        print(f\"   Distance: {distance:.3f}\")\n",
    "        print(f\"   Similarity: {similarity:.3f}\")\n",
    "        print(f\"   Title: {metadata.get('title', 'N/A')}\")\n",
    "        print(f\"   Content: {doc[:150]}...\")\n",
    "    \n",
    "    return results\n",
    "\n"
   ]
  },
  {
   "cell_type": "code",
   "execution_count": null,
   "metadata": {},
   "outputs": [],
   "source": [
    "\n",
    "test_queries = [\n",
    "    \"What is APEC?\",\n",
    "    'APEC là gì',\n",
    "    \"APEC member countries\",\n",
    "    \"APEC 2025 meetings schedule events\",\n",
    "    'Lịch họp APEC 2025 sự kiện']\n",
    "\n",
    "for query in test_queries:\n",
    "    search_fixed(query, top_k=3)\n",
    "    print(\"\\n\" + \"=\"*80 + \"\\n\")"
   ]
  }
 ],
 "metadata": {
  "kernelspec": {
   "display_name": "3.10.16",
   "language": "python",
   "name": "python3"
  },
  "language_info": {
   "codemirror_mode": {
    "name": "ipython",
    "version": 3
   },
   "file_extension": ".py",
   "mimetype": "text/x-python",
   "name": "python",
   "nbconvert_exporter": "python",
   "pygments_lexer": "ipython3",
   "version": "3.10.16"
  }
 },
 "nbformat": 4,
 "nbformat_minor": 4
}
